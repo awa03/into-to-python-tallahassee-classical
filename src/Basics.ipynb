{
 "cells": [
  {
   "cell_type": "markdown",
   "id": "da39ece6-2afa-4328-957d-d8dfef9bbc08",
   "metadata": {},
   "source": [
    "# What is Python\n",
    "Python is a powerful language that makes development fast and easy. Python is extremely easy to use, and supports a huge standard library encompassing a diverse ecosystem. You can use python on just about any platform! From your mac to your windows computer."
   ]
  },
  {
   "cell_type": "markdown",
   "id": "0d1dd48a-8f29-4d54-8ff2-94d5754c4ef2",
   "metadata": {},
   "source": [
    "### Pros\n",
    "- easy to learn\n",
    "- huge ecosystem\n",
    "- community\n",
    "- cross platform\n",
    "- rapid development\n",
    "- versitile\n",
    "- dynamically typed and flexible"
   ]
  },
  {
   "cell_type": "markdown",
   "id": "0aaa81ed-da5e-4982-9fc6-f9020294b4bf",
   "metadata": {},
   "source": [
    "### Cons\n",
    "- slow\n",
    "- high memory usage\n",
    "- not great for mobile and game development\n",
    "- limited multithreading capabilites\n",
    "- weak systems level programming\n",
    "- version control issues"
   ]
  },
  {
   "cell_type": "markdown",
   "id": "5ce50119-c916-4a65-bca2-110b99e9db8f",
   "metadata": {},
   "source": [
    "****\n",
    "## Printing to the Console\n",
    "The first step in learning any programming language is to start out by creating a basic program. Programmers typically start by printing to the console `hello world`. \n",
    "\n",
    "In order to accomplish this within python we will use the `print` function. "
   ]
  },
  {
   "cell_type": "code",
   "execution_count": 1,
   "id": "a35e1083-eff6-4e77-b7ba-fca1adb0afb5",
   "metadata": {},
   "outputs": [
    {
     "name": "stdout",
     "output_type": "stream",
     "text": [
      "Hello, World\n"
     ]
    }
   ],
   "source": [
    "print(\"Hello, World\")"
   ]
  },
  {
   "cell_type": "markdown",
   "id": "6cf5971d-ac2b-4916-9f35-fe9b0a23ff3d",
   "metadata": {},
   "source": [
    "****\n",
    "## Declaring Variables\n",
    "Variables are an extremely important concept within programming. Similarly to mathmatics, variables allow us to use reference values using a symbolic name. \n",
    "\n",
    "Since python is a _dynamically typed_ language we do not need to provide any data type when defining variables. In programming languages such as _c_ we are required to define the type of a variable. Python still has these types, but they are inferred automatically rather than being defined by the user. \n",
    "\n",
    "In order to declare a variable we need both a name for the variable and some data for this name to reference. "
   ]
  },
  {
   "cell_type": "code",
   "execution_count": 2,
   "id": "890c9197-dc76-468b-962c-e459087ef526",
   "metadata": {},
   "outputs": [],
   "source": [
    "variable = 10"
   ]
  },
  {
   "cell_type": "markdown",
   "id": "5f2eb24d-7235-4e0d-9323-44746b10db60",
   "metadata": {},
   "source": [
    "We can combine this concept with the previous concept of printing in order to view the value that `variable` is refrencing"
   ]
  },
  {
   "cell_type": "code",
   "execution_count": 3,
   "id": "f9853e84-0970-4ae6-be72-489eb1a7c8c4",
   "metadata": {},
   "outputs": [
    {
     "name": "stdout",
     "output_type": "stream",
     "text": [
      "10\n"
     ]
    }
   ],
   "source": [
    "print(variable)"
   ]
  },
  {
   "cell_type": "markdown",
   "id": "fc868759-e3fd-447e-b727-875d129e6d9f",
   "metadata": {},
   "source": [
    "****\n",
    "## Variable Types\n",
    "- integer\n",
    "- floats\n",
    "- strings\n",
    "- booleans\n",
    "\n",
    "### Finding the Type\n",
    "We can find what type a variable is using the `type` function\n",
    "\n",
    "### Integers\n",
    "Integers represent positive and negative values."
   ]
  },
  {
   "cell_type": "code",
   "execution_count": 7,
   "id": "603dd29d-130f-4bb3-9a03-0721b69ff7e6",
   "metadata": {},
   "outputs": [
    {
     "data": {
      "text/plain": [
       "int"
      ]
     },
     "execution_count": 7,
     "metadata": {},
     "output_type": "execute_result"
    }
   ],
   "source": [
    "integer = 1\n",
    "type(integer)"
   ]
  },
  {
   "cell_type": "markdown",
   "id": "a0629154-8416-47a9-b5dd-08452a73490f",
   "metadata": {},
   "source": [
    "### Floats\n",
    "A float is either a positive or a negative decimal value. This can be used when decimal percision is needed."
   ]
  },
  {
   "cell_type": "code",
   "execution_count": 8,
   "id": "7dc6bd02-1541-4df8-a294-9dd6b57d0009",
   "metadata": {},
   "outputs": [
    {
     "data": {
      "text/plain": [
       "float"
      ]
     },
     "execution_count": 8,
     "metadata": {},
     "output_type": "execute_result"
    }
   ],
   "source": [
    "float = 1.1111\n",
    "type(float)"
   ]
  },
  {
   "cell_type": "markdown",
   "id": "8581e8fd-7f52-406e-b301-8c070e6f5c5e",
   "metadata": {},
   "source": [
    "### Strings\n",
    "Strings are used to represent text data. This can be contained within single or double quotes. "
   ]
  },
  {
   "cell_type": "code",
   "execution_count": 9,
   "id": "667331dc-ddb8-4d7d-880d-67ecbd4f3ec4",
   "metadata": {},
   "outputs": [
    {
     "data": {
      "text/plain": [
       "str"
      ]
     },
     "execution_count": 9,
     "metadata": {},
     "output_type": "execute_result"
    }
   ],
   "source": [
    "string = \"Hello World\"\n",
    "type(string)"
   ]
  },
  {
   "cell_type": "markdown",
   "id": "47b1410b-6f7e-4299-937f-df6ff62b96b1",
   "metadata": {},
   "source": [
    "### Booleans\n",
    "This represents true or false. These can be used for decision making. "
   ]
  },
  {
   "cell_type": "code",
   "execution_count": 10,
   "id": "b3bcdc13-05a1-45b3-af7f-bdd17d2d08ca",
   "metadata": {},
   "outputs": [
    {
     "data": {
      "text/plain": [
       "bool"
      ]
     },
     "execution_count": 10,
     "metadata": {},
     "output_type": "execute_result"
    }
   ],
   "source": [
    "boolean = True\n",
    "type(boolean)"
   ]
  },
  {
   "cell_type": "markdown",
   "id": "c3bd6494-5dba-4f9b-9e12-36fe4cac9aed",
   "metadata": {},
   "source": [
    "****\n",
    "## Getting Input\n",
    "In order to gather input from the user we need to use the `input` function. The entered parameter will print to the console as a prompt for the input. "
   ]
  },
  {
   "cell_type": "code",
   "execution_count": 13,
   "id": "148854c1-e4d7-44c5-ad53-24c8b8c58fe9",
   "metadata": {},
   "outputs": [
    {
     "name": "stdin",
     "output_type": "stream",
     "text": [
      "Enter Your Name\n",
      " Aiden\n"
     ]
    }
   ],
   "source": [
    "name = input(\"Enter Your Name\\n\")"
   ]
  },
  {
   "cell_type": "markdown",
   "id": "a2605b45-bdbf-4741-b4e7-41ea2d61752c",
   "metadata": {},
   "source": [
    "Now we can use this `name` variable to reference to the entered value."
   ]
  },
  {
   "cell_type": "code",
   "execution_count": 14,
   "id": "1ae5df60-43a0-4ac0-87c5-af98137b89ae",
   "metadata": {},
   "outputs": [
    {
     "name": "stdout",
     "output_type": "stream",
     "text": [
      "Hello Aiden\n"
     ]
    }
   ],
   "source": [
    "print(\"Hello\", name) "
   ]
  },
  {
   "cell_type": "markdown",
   "id": "d8225584-772b-44b4-b801-34bf00326861",
   "metadata": {},
   "source": [
    "****\n",
    "## Type casting\n",
    "\n",
    "Since Input will gather an entered string we can not use it as though it is an `integer`! Look at the code below, how do you think we can fix this? "
   ]
  },
  {
   "cell_type": "code",
   "execution_count": 15,
   "id": "ac95309d-ff3f-4aa3-8242-961a14f56877",
   "metadata": {},
   "outputs": [
    {
     "name": "stdin",
     "output_type": "stream",
     "text": [
      "Enter A Number 100\n"
     ]
    },
    {
     "ename": "TypeError",
     "evalue": "can only concatenate str (not \"int\") to str",
     "output_type": "error",
     "traceback": [
      "\u001b[0;31m---------------------------------------------------------------------------\u001b[0m",
      "\u001b[0;31mTypeError\u001b[0m                                 Traceback (most recent call last)",
      "Cell \u001b[0;32mIn[15], line 2\u001b[0m\n\u001b[1;32m      1\u001b[0m number \u001b[38;5;241m=\u001b[39m \u001b[38;5;28minput\u001b[39m(\u001b[38;5;124m\"\u001b[39m\u001b[38;5;124mEnter A Number\u001b[39m\u001b[38;5;124m\"\u001b[39m)\n\u001b[0;32m----> 2\u001b[0m \u001b[38;5;28mprint\u001b[39m(number \u001b[38;5;241m+\u001b[39m \u001b[38;5;241m1\u001b[39m)\n",
      "\u001b[0;31mTypeError\u001b[0m: can only concatenate str (not \"int\") to str"
     ]
    }
   ],
   "source": [
    "number = input(\"Enter A Number\")\n",
    "print(number + 1)"
   ]
  },
  {
   "cell_type": "markdown",
   "id": "b59cfb4a-8dbb-4e6a-9141-02a1a49ba298",
   "metadata": {},
   "source": [
    "We cannot concatenate a string with an integer. \n",
    "\n",
    "Part of the issue is that the interpreter would not be able to determine what we are trying to accomplish. If we enter the number `100` for example, 100 + 1 would print `101` or if we want to combine strings it would make `1001`. \n",
    "\n",
    "So how do we fix this?"
   ]
  },
  {
   "cell_type": "code",
   "execution_count": 17,
   "id": "cc69c23f-d6e8-4a68-a7c1-37308359f5fe",
   "metadata": {},
   "outputs": [
    {
     "name": "stdin",
     "output_type": "stream",
     "text": [
      "Enter A Number 100\n"
     ]
    },
    {
     "name": "stdout",
     "output_type": "stream",
     "text": [
      "101\n"
     ]
    }
   ],
   "source": [
    "number = int(input(\"Enter A Number\"))\n",
    "print(number + 1)"
   ]
  },
  {
   "cell_type": "code",
   "execution_count": 18,
   "id": "a6e00261-0fc7-4790-be01-2d56c45cf1de",
   "metadata": {},
   "outputs": [
    {
     "name": "stdin",
     "output_type": "stream",
     "text": [
      "Enter A Number 100\n"
     ]
    },
    {
     "name": "stdout",
     "output_type": "stream",
     "text": [
      "1001\n"
     ]
    }
   ],
   "source": [
    "number = input(\"Enter A Number\")\n",
    "print(number + str(1))"
   ]
  },
  {
   "cell_type": "markdown",
   "id": "e852c987-83b0-4dee-b821-9f75d5514f3f",
   "metadata": {},
   "source": [
    "The above `int` and `str` keywords are telling the interpreter that these variables should be converted to their specified types. This removes the problem of abiguity since we are explicitly telling the computer how to handle these variables."
   ]
  },
  {
   "cell_type": "markdown",
   "id": "afcc79cc-590e-45fe-b811-56b19a63f91d",
   "metadata": {},
   "source": [
    "****\n",
    "## String Interpolation\n",
    "String interpolation is a process of substituting values of variables into placeholders within a string. For instance if we would like to say \"Hello {Name of Person}\".\n",
    "\n",
    "Following python 3.6 we can use `f-strings`. This allows a literal prefix to tell the interpreter we are performing string interpolation."
   ]
  },
  {
   "cell_type": "code",
   "execution_count": 20,
   "id": "d5fa6d87-eac6-42fe-bfbe-1963f1ab89c5",
   "metadata": {},
   "outputs": [
    {
     "name": "stdout",
     "output_type": "stream",
     "text": [
      "Hello Aiden\n"
     ]
    }
   ],
   "source": [
    "name = \"Aiden\"\n",
    "welcomeStatement = f\"Hello {name}\"\n",
    "print(welcomeStatement)"
   ]
  },
  {
   "cell_type": "markdown",
   "id": "bd3b0564-e26a-42d8-9bc6-84464b79f9d3",
   "metadata": {},
   "source": [
    "We can also embed Python expressions to make this process even more powerful. "
   ]
  },
  {
   "cell_type": "code",
   "execution_count": 21,
   "id": "98f7b32f-2316-4d6e-bbaf-d114096fe371",
   "metadata": {},
   "outputs": [
    {
     "name": "stdout",
     "output_type": "stream",
     "text": [
      "Number1: 100\n",
      "Number2: 100\n",
      "Sum: 200\n",
      "Product: 10000\n"
     ]
    }
   ],
   "source": [
    "number1 = 100\n",
    "number2 = 100\n",
    "string1 = f\"Number1: {number1}\\nNumber2: {number2}\\nSum: {number1 + number2}\\nProduct: {number1 * number2}\"\n",
    "print(string1)"
   ]
  },
  {
   "cell_type": "markdown",
   "id": "a453c1a6-18bb-4d1f-8873-b24d0a9f0ecb",
   "metadata": {},
   "source": [
    "****\n",
    "## Comments\n",
    "Comments are a way of making our code more understandable. They allow us to add words to our code without it affecting the execution.\n",
    "\n",
    "Single line comments use `#` in order to start a comment\n",
    "\n",
    "Multiline comments use `\"\"\" \"\"\"` to start a comment"
   ]
  },
  {
   "cell_type": "code",
   "execution_count": 23,
   "id": "a0baac02-82cb-4cb2-9fdf-470e6d6f556d",
   "metadata": {},
   "outputs": [
    {
     "name": "stdout",
     "output_type": "stream",
     "text": [
      "hello, world\n"
     ]
    }
   ],
   "source": [
    "# single line\n",
    "\"\"\"\n",
    "Multi\n",
    "Line\n",
    "Comment\n",
    "\"\"\"\n",
    "\n",
    "print(\"hello, world\")"
   ]
  },
  {
   "cell_type": "markdown",
   "id": "5f3c6317-90b3-4935-a4a0-6a0117b32322",
   "metadata": {},
   "source": [
    "Notice that only hello, world printed to the console. "
   ]
  },
  {
   "cell_type": "markdown",
   "id": "6108b6c4-9e17-4c35-86f3-70800e3ffeb4",
   "metadata": {},
   "source": [
    "****\n",
    "## If Else Statements\n",
    "If else statements allow us to create conditional control flow within our program. \n",
    "\n",
    "A real world use case would be things you want to do. If we press a key on our keyboard we dont want to print all possible letters that could have been pressed! We want to see what key was actually pressed so that we may execute the coresponding action."
   ]
  },
  {
   "cell_type": "code",
   "execution_count": 26,
   "id": "cee3b9e0-7ce8-4ffe-ab70-6a118a15bca8",
   "metadata": {},
   "outputs": [
    {
     "name": "stdout",
     "output_type": "stream",
     "text": [
      "A is less than B\n"
     ]
    }
   ],
   "source": [
    "a = 10\n",
    "b = 20\n",
    "\n",
    "if a < b:\n",
    "    print(\"A is less than B\")\n",
    "elif b < a:\n",
    "    print(\"B is less than A\")\n",
    "else: \n",
    "    print(\"A and B are equal\")"
   ]
  },
  {
   "cell_type": "markdown",
   "id": "89a947a8-43de-4a5b-8b89-3129b8ba1e3d",
   "metadata": {},
   "source": [
    "### So how does this work?\n",
    "- `a < b` returns a boolean value\n",
    "- `b < a` returns a boolean value\n",
    "- `else` will run if all other `if` statements resolved to false (_did not run_)\n",
    "\n",
    "Our `if` statement will then check to see if this boolean value is `True` or `False`. If `True` the code block below will execute, if `False` the next `if` statement will be processed. \n",
    "\n",
    "`elif` is short for else if. This means that it is only executed as an if statement if the previous statement was false. This is useful in preventing situations like the one you see below..."
   ]
  },
  {
   "cell_type": "code",
   "execution_count": 27,
   "id": "67de5c1f-2868-4b7c-96e1-34e26faea049",
   "metadata": {},
   "outputs": [
    {
     "name": "stdout",
     "output_type": "stream",
     "text": [
      "A is less than B\n",
      "A and B are equal\n"
     ]
    }
   ],
   "source": [
    "a = 10\n",
    "b = 20\n",
    "\n",
    "if a < b:\n",
    "    print(\"A is less than B\")\n",
    "if b < a:\n",
    "    print(\"B is less than A\")\n",
    "else: \n",
    "    print(\"A and B are equal\")"
   ]
  },
  {
   "cell_type": "markdown",
   "id": "5c7898ac-295d-4e22-9de0-4c908c3e1915",
   "metadata": {},
   "source": [
    "Since we did not use an `elif` statment both ran!"
   ]
  },
  {
   "cell_type": "markdown",
   "id": "ecd80658-e3af-4bd2-a902-02bf8dcbaf9d",
   "metadata": {},
   "source": [
    "### Comparison"
   ]
  },
  {
   "cell_type": "code",
   "execution_count": 37,
   "id": "0ecbeaba-e21f-47d3-a948-7484eaeaf916",
   "metadata": {},
   "outputs": [
    {
     "name": "stdout",
     "output_type": "stream",
     "text": [
      "False\n",
      "False\n",
      "True\n",
      "True\n",
      "True\n",
      "True\n"
     ]
    }
   ],
   "source": [
    "a = 1\n",
    "b = b\n",
    "print(a < b)\n",
    "print(a > b) \n",
    "print(a >= b)\n",
    "print(a <= b)\n",
    "print(a == b)\n",
    "print(a is b)"
   ]
  },
  {
   "cell_type": "markdown",
   "id": "2a502e27-1a66-4690-a841-0a2a571b4220",
   "metadata": {},
   "source": [
    "****\n",
    "## While Loops\n",
    "There are two types of primitive loops in python: `while` and `for` loops. \n",
    "\n",
    "A `while` loop will execute a code block until the conditional is false."
   ]
  },
  {
   "cell_type": "code",
   "execution_count": 29,
   "id": "61f691bb-ac36-43fa-8463-9f3b616ed433",
   "metadata": {},
   "outputs": [
    {
     "name": "stdout",
     "output_type": "stream",
     "text": [
      "0\n",
      "1\n",
      "2\n",
      "3\n",
      "4\n"
     ]
    }
   ],
   "source": [
    "a = 0\n",
    "b = 5\n",
    "while(a < b):\n",
    "    print(a)\n",
    "    a += 1"
   ]
  },
  {
   "cell_type": "markdown",
   "id": "44079e93-039e-4389-a8bb-e335d84e4bd6",
   "metadata": {},
   "source": [
    "We can create an infinite loop by using the value `True` as the conditional"
   ]
  },
  {
   "cell_type": "code",
   "execution_count": 1,
   "id": "2b2cd1ff-4e4e-4c8e-ba35-fd3c45f08ff4",
   "metadata": {},
   "outputs": [
    {
     "name": "stdout",
     "output_type": "stream",
     "text": [
      "AHHH\n"
     ]
    }
   ],
   "source": [
    "while(True):\n",
    "    print(\"AHHH\")\n",
    "    break"
   ]
  },
  {
   "cell_type": "markdown",
   "id": "a0701cda-9d3e-41a2-99eb-e70a084d50a1",
   "metadata": {},
   "source": [
    "### Break Statement\n",
    "A `break` statement will allow us to stop the loop even if the condition is still true"
   ]
  },
  {
   "cell_type": "code",
   "execution_count": 2,
   "id": "b0dd5baa-9ebf-444d-99d9-76dba255ed8d",
   "metadata": {},
   "outputs": [
    {
     "name": "stdout",
     "output_type": "stream",
     "text": [
      "0\n",
      "1\n",
      "2\n",
      "3\n",
      "4\n"
     ]
    }
   ],
   "source": [
    "a = 0\n",
    "b = 5\n",
    "while(True):\n",
    "    print(a)\n",
    "    a += 1\n",
    "    if(a >= b):\n",
    "        break"
   ]
  },
  {
   "cell_type": "markdown",
   "id": "bfd2e20d-7376-4ffa-8c08-8f3ae4fbef52",
   "metadata": {},
   "source": [
    "### Continue Statement\n",
    "A `continue` statement will stop the current iteration and continue to the next one."
   ]
  },
  {
   "cell_type": "code",
   "execution_count": 3,
   "id": "21113a68-9d31-4dde-877f-b0eec28c61fa",
   "metadata": {},
   "outputs": [
    {
     "name": "stdout",
     "output_type": "stream",
     "text": [
      "1\n",
      "2\n",
      "4\n",
      "5\n",
      "6\n"
     ]
    }
   ],
   "source": [
    "i = 0\n",
    "while i < 6:\n",
    "  i += 1\n",
    "  if i == 3:\n",
    "    continue\n",
    "  print(i)"
   ]
  },
  {
   "cell_type": "code",
   "execution_count": null,
   "id": "2f84e322-12f1-4cdf-a5e6-5eed5b16e08a",
   "metadata": {},
   "outputs": [],
   "source": []
  }
 ],
 "metadata": {
  "kernelspec": {
   "display_name": "Python 3 (ipykernel)",
   "language": "python",
   "name": "python3"
  },
  "language_info": {
   "codemirror_mode": {
    "name": "ipython",
    "version": 3
   },
   "file_extension": ".py",
   "mimetype": "text/x-python",
   "name": "python",
   "nbconvert_exporter": "python",
   "pygments_lexer": "ipython3",
   "version": "3.12.7"
  }
 },
 "nbformat": 4,
 "nbformat_minor": 5
}
